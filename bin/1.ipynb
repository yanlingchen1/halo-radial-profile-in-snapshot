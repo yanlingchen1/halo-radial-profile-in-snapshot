{
 "cells": [
  {
   "cell_type": "code",
   "execution_count": 1,
   "metadata": {},
   "outputs": [
    {
     "ename": "SyntaxError",
     "evalue": "invalid syntax (<ipython-input-1-1fc49971f365>, line 41)",
     "output_type": "error",
     "traceback": [
      "\u001b[0;36m  File \u001b[0;32m\"<ipython-input-1-1fc49971f365>\"\u001b[0;36m, line \u001b[0;32m41\u001b[0m\n\u001b[0;31m    olddatapath = f'/cosma8/data/dp004/dc-chen3/work/bin/halo-radial-profile-in-snapshot/results/results_wrong_wholeboxz_sb/xraysb_csvs_230504_{mf}_groups_1028halos'\u001b[0m\n\u001b[0m                                                                                                                                                                    ^\u001b[0m\n\u001b[0;31mSyntaxError\u001b[0m\u001b[0;31m:\u001b[0m invalid syntax\n"
     ]
    }
   ],
   "source": [
    "import pandas as pd\n",
    "import numpy as np\n",
    "import numba as nb\n",
    "import os\n",
    "import concurrent.futures\n",
    "\n",
    "@nb.jit(nopython=True)\n",
    "def msk_in_r(coor, halo_center, r):\n",
    "    n = coor.shape[1]\n",
    "    where = np.empty(coor.shape[0], dtype=np.bool_)\n",
    "    for i in range(coor.shape[0]):\n",
    "        d2 = 0.0\n",
    "        for j in range(n):\n",
    "            d2 += (coor[i,j] - halo_center[j])**2\n",
    "        where[i] = d2 < r**2\n",
    "    return where\n",
    "@nb.jit(nopython=True)\n",
    "def msk_in_radii(coor, halo_center, r1, r2):\n",
    "    n = coor.shape[1]\n",
    "    where = np.empty(coor.shape[0], dtype=np.bool_)\n",
    "    for i in range(coor.shape[0]):\n",
    "        d2 = 0.0\n",
    "        for j in range(n):\n",
    "            d2 += (coor[i,j] - halo_center[j])**2\n",
    "        where[i] = (d2 < r2**2) & (d2 >= r1**2)\n",
    "    return where\n",
    "\n",
    "@nb.jit(nopython=True)\n",
    "def msk_in_cylinder(coor, halo_center, r1,r2, z): # r, z in cMpc\n",
    "    n = 2\n",
    "    where = np.empty(coor.shape[0], dtype=np.bool_)\n",
    "    for i in range(coor.shape[0]):\n",
    "        d2 = 0.0\n",
    "        for j in range(n):\n",
    "            d2 += (coor[i,j] - halo_center[j])**2\n",
    "        where[i] = (d2 <= r2**2) & (d2 >= r1**2) & (coor[i,2] < (halo_center[2]+z/2)) & (coor[i,2] >= (halo_center[2]-z/2))\n",
    "    return where\n",
    "   \n",
    "\n",
    "for mf in [15.0]:#[13.0, 13.5, 14.0, 14.5, 15.0]:\n",
    "    olddatapath = f'/cosma8/data/dp004/dc-chen3/work/bin/halo-radial-profile-in-snapshot/results/results_wrong_wholeboxz_sb/xraysb_csvs_230504_{mf}_groups_1028halos'\n",
    "    workpath = f'/cosma8/data/dp004/dc-chen3/work/bin/halo-radial-profile-in-snapshot/results/results_add_xraylum_sb_230509/xraysb_csvs_{mf}_groups_1028halos'\n",
    "    savepath = f'{workpath}/xraylum_csvs_230511_{mf}_groups_radial_pkpc_cylinder'\n",
    "    os.makedirs(savepath, exist_ok = True)\n",
    "    df_halo = pd.read_csv(f'{olddatapath}/xray_linelum_snapshot75_halomass_btw_{int(mf*10)}_{int((mf+0.5)*10)}_230404.csv')\n",
    "    haloids = df_halo['halo_ids']\n",
    "    halo_centers = np.array([df_halo['x_gasmass_center'], df_halo['y_gasmass_center'], df_halo['z_gasmass_center']]).T\n",
    "    halo_r200cs = df_halo['r200c']\n",
    "    xbins = np.linspace(-2,3.1,50)\n",
    "    props = [('o7f', 'sum'), ('o8', 'sum'), ('fe17', 'sum')]\n",
    "    def cal_xraylum(k):\n",
    "        haloid = haloids[k]\n",
    "        print(haloid)\n",
    "        halo_cen = halo_centers[k]\n",
    "        bins = np.power(10, xbins) * 1 #Mpc\n",
    "        prop_arr  = np.zeros(len(bins))\n",
    "        newdf_part = pd.read_csv(f'{workpath}/xray_linelum_snapshot75_halo{int(haloid-1)}_partlum.csv')\n",
    "        df_part = pd.read_csv(f'{olddatapath}/xray_linelum_snapshot75_halo{int(haloid-1)}_partlum_230404.csv')\n",
    "        right_lumdist = 4*np.pi*((df_part['part_zcoords']-(halo_cen[2]-3.125)) * (1+0.1))**2\n",
    "        part_flux = newdf_part[f'lum_{prop[0]}']/right_lumdist\n",
    "        print((df_part['part_zcoords']-(halo_cen[2]-3.125)))\n",
    "        # print(np.sum(newdf_part[f'lum_{prop[0]}']>0))\n",
    "        # print(right_lumdist)\n",
    "        # print(np.sum(part_flux>0))\n",
    "        for j in range(len(bins)-1):\n",
    "            radmsk = msk_in_cylinder(np.array([df_part['part_xcoords'], df_part['part_ycoords'], df_part['part_zcoords']]).T, halo_cen, bins[j], bins[j+1], 6.25)\n",
    "            prop_arr[j] = np.nansum(part_flux[np.array(df_part['jointmsk']) & radmsk])\n",
    "        print(np.sum(prop_arr>0))\n",
    "        return prop_arr\n",
    "\n",
    "    for prop in props:\n",
    "        output = np.zeros((len(xbins), len(haloids)))\n",
    "        k = 0\n",
    "        # with concurrent.futures.ProcessPoolExecutor(8) as executor:\n",
    "        #     for k, result in enumerate(executor.map(cal_xraylum,np.arange(len(haloids)))):\n",
    "                # output[:,k] = result\n",
    "        output[:,k] = cal_xraylum(k)\n",
    "        df = pd.DataFrame.from_dict(output)\n",
    "        df.to_csv(f'{savepath}/{prop[0]}.csv')"
   ]
  },
  {
   "cell_type": "code",
   "execution_count": null,
   "metadata": {},
   "outputs": [],
   "source": []
  }
 ],
 "metadata": {
  "kernelspec": {
   "display_name": "Python 2.7.15 64-bit",
   "language": "python",
   "name": "python3"
  },
  "language_info": {
   "codemirror_mode": {
    "name": "ipython",
    "version": 2
   },
   "file_extension": ".py",
   "mimetype": "text/x-python",
   "name": "python",
   "nbconvert_exporter": "python",
   "pygments_lexer": "ipython2",
   "version": "2.7.15"
  },
  "orig_nbformat": 4,
  "vscode": {
   "interpreter": {
    "hash": "5ce3d33bbfb2ecc46155dab4443fe323a5e4768a004e5d1e7aa45e7ef31f861f"
   }
  }
 },
 "nbformat": 4,
 "nbformat_minor": 2
}
