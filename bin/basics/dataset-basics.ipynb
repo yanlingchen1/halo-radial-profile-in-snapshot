{
 "cells": [
  {
   "cell_type": "code",
   "execution_count": null,
   "metadata": {},
   "outputs": [],
   "source": [
    "'''\n",
    "Understand the basics of the dataset : L1000N1800/L1000N3600 at snapshot z=0.1\n",
    "1. Total halo numbers in every mass bin in my interested redshifts\n",
    "2. Randomly select the halos, see their mass map, X-ray bol lum maps\n",
    "-> save the plots in fig/L1000N1800_z01/Xray_bol_02-2kev or fig/L1000N1800_z01/masses\n",
    "\n",
    "'''\n",
    "\n",
    "\n"
   ]
  },
  {
   "cell_type": "code",
   "execution_count": 17,
   "metadata": {},
   "outputs": [],
   "source": [
    "'''\n",
    "Step1: Total halo numbers in every mass bin in my interested redshifts\n",
    "L1000N1800, for z=0.1\n",
    "'''\n",
    "\n",
    "# L1000N1800\n",
    "sim = 'L1000N1800'\n",
    "snapnum = 77\n",
    "\n",
    "# # L1000N3600\n",
    "# sim = 'L1000N3600'\n",
    "# snapnum = 78\n",
    "\n",
    "import numpy as np \n",
    "import swiftsimio as sw\n",
    "import h5py\n",
    "import matplotlib.pyplot as plt\n",
    "\n",
    "# load soap\n",
    "reds = 0.1\n",
    "with h5py.File(f\"/cosma8/data/dp004/flamingo/Runs/{sim}/HYDRO_FIDUCIAL/SOAP/halo_properties_00{int(snapnum-reds/0.05)}.hdf5\", 'r') as catalogue_soap:\n",
    "    soap_ids = np.array(catalogue_soap[\"VR/ID\"][()])\n",
    "    m200c_sp = catalogue_soap[\"SO/200_crit/TotalMass\"][()]\n",
    "    # r200c_sp = catalogue_soap[\"SO/200_crit/SORadius\"][()]\n",
    "    gasmass_center = catalogue_soap[\"SO/200_crit/GasCentreOfMass\"][()]\n",
    "    # xray_bol_emilum = catalogue_soap[\"SO/200_crit/XRayLuminosityWithoutRecentAGNHeating\"][()]\n",
    "    # xray_bol_phlum = catalogue_soap[\"SO/200_crit/XRayPhotonLuminosityWithoutRecentAGNHeating\"][()]\n",
    "\n",
    "# take halo mass btw 13-13.5 solar mass\n",
    "mf_arr = np.arange(12.5, 16, 0.5)\n",
    "halo_num_arr =  np.zeros(mf_arr.shape)\n",
    "\n",
    "for i, mf in enumerate(mf_arr):\n",
    "    msk = (m200c_sp < np.power(10,mf+0.5)) & (m200c_sp >= np.power(10,mf)) & (gasmass_center[:,0] > 50) & (gasmass_center[:,0] < 950) & (gasmass_center[:,1] > 50) & (gasmass_center[:,1] < 950) & (gasmass_center[:,2] > 50) & (gasmass_center[:,2] < 950)\n",
    "    halo_num_arr[i] = np.sum(msk)\n",
    "\n"
   ]
  },
  {
   "cell_type": "code",
   "execution_count": 18,
   "metadata": {},
   "outputs": [
    {
     "data": {
      "image/png": "[encoded data removed]",
      "text/plain": [
       "<Figure size 432x432 with 1 Axes>"
      ]
     },
     "metadata": {
      "needs_background": "light"
     },
     "output_type": "display_data"
    }
   ],
   "source": [
    "# make the hist plot\n",
    "\n",
    "plt.figure(figsize=(6,6))\n",
    "plt.stairs(halo_num_arr[:-1], mf_arr)\n",
    "\n",
    "plt.yscale('log')\n",
    "plt.ylabel('Halo number')\n",
    "plt.xlabel('Halo mass')\n",
    "plt.xticks(mf_arr)\n",
    "plt.show()\n",
    "plt.close()"
   ]
  },
  {
   "cell_type": "code",
   "execution_count": 59,
   "metadata": {},
   "outputs": [],
   "source": [
    "import healpy as hp\n",
    "def cartproj_map(mapdata,vector, r=5, xsize=600, nside=4096):\n",
    "    '''\n",
    "    Parameters\n",
    "    ----------\n",
    "    halo: string of halo_id\n",
    "    r: fov radius : degree\n",
    "    xsize: pixel number\n",
    "    nside: integral\n",
    "    '''\n",
    "    xsize = 600 \n",
    "    nside = 4096\n",
    "    cartproj = hp.projector.CartesianProj(\n",
    "        lonra=[-r , r ],\n",
    "        latra=[-r , r ],\n",
    "        # rot=hp.vec2ang(np.array([1,0,0]), lonlat=True), #bas\n",
    "        rot= hp.vec2ang(vector, lonlat=True), #void\n",
    "        # rot = hp.vec2ang(np.array([0.29619813,  0.17101007, -0.93969262]), lonlat=True), # strange_halo\n",
    "        xsize=xsize,\n",
    "    )\n",
    "    pR = cartproj.projmap(mapdata, lambda x,y,z:hp.vec2pix(nside,x,y,z))\n",
    "    return pR"
   ]
  },
  {
   "cell_type": "code",
   "execution_count": 2,
   "metadata": {},
   "outputs": [],
   "source": [
    "#  Select 25 random halo in each mass bin and plot them (all projected along z axis)\n",
    "'''\n",
    "Step1: Total halo numbers in every mass bin in my interested redshifts\n",
    "L1000N1800, for z=0.1\n",
    "'''\n",
    "\n",
    "\n",
    "import numpy as np \n",
    "import swiftsimio as sw\n",
    "import h5py\n",
    "import matplotlib.pyplot as plt\n",
    "from unyt import msun, kpc\n",
    "from swiftsimio.visualisation.projection import project_gas\n",
    "from swiftsimio import load\n",
    "from matplotlib.colors import LogNorm\n",
    "from swiftsimio.visualisation import project_gas_pixel_grid\n",
    "\n",
    "from scipy import stats\n",
    "from datetime import datetime\n",
    "\n",
    "import os\n",
    "\n",
    "today = datetime.today().strftime('%Y-%m-%d')\n",
    "os.makedirs(\"../../fig/halo_mass_dens_maps/\", exist_ok=True)\n",
    "# define redshifts\n",
    "reds = 0.1\n",
    "\n",
    "\n",
    "# L1000N1800\n",
    "sim = 'L1000N1800'\n",
    "snapnum = 77\n",
    "cat_idx = f\"00{int(snapnum-reds/0.05)}\"\n",
    "\n",
    "# # L1000N3600\n",
    "# sim = 'L1000N3600'\n",
    "# snapnum = 78\n",
    "\n",
    "# define catalogues positions\n",
    "work_dir = f\"/cosma8/data/dp004/dc-chen3/work/bin/halo-radial-profile-in-snapshot\"\n",
    "basic_dir = f\"/cosma8/data/dp004/flamingo/Runs/{sim}/HYDRO_FIDUCIAL\"\n",
    "soap_dir = f\"{basic_dir}/SOAP\"\n",
    "snapshot_dir = f\"{basic_dir}/snapshots_downsampled\"\n",
    "\n",
    "# load snapshot data\n",
    "with h5py.File(f\"{snapshot_dir}/flamingo_{cat_idx}.hdf5\", 'r') as f:\n",
    "    coords = f['GasParticles/Coordinates'][()]\n",
    "    mass_map = f['GasParticles/Masses'][()]\n",
    "\n",
    "# load soap catalogue\n",
    "with h5py.File(f\"{soap_dir}/halo_properties_{cat_idx}.hdf5\", 'r') as catalogue_soap:\n",
    "    soap_ids = np.array(catalogue_soap[\"VR/ID\"][()])\n",
    "    m200c_sp = catalogue_soap[\"SO/200_crit/TotalMass\"][()]\n",
    "    r200c_sp = catalogue_soap[\"SO/200_crit/SORadius\"][()] * (1+reds)\n",
    "    centers_of_potential = catalogue_soap[\"VR/CentreOfPotential\"][()]\n",
    "    gasmasscenters = catalogue_soap[\"SO/200_crit/GasCentreOfMass\"][()] * (1+reds)\n",
    "    # BH_center = catalogue_soap[\"SO/200_crit/MostMassiveBlackHolePosition\"][()] * (1+reds) \n",
    "    \n",
    "centers_inuse = gasmasscenters\n",
    "# take halo mass btw 13-13.5 solar mass\n",
    "mf_arr = np.arange(14, 15.5, 0.5)\n",
    "# mf_arr = np.array([14.5,15])\n",
    "halo_num_arr =  np.zeros(mf_arr.shape)\n",
    "\n",
    "# set the random seed, draw 25 radom halos from each mass bin\n",
    "np.random.seed(0)\n",
    "halonum = 25\n",
    "\n",
    "\n",
    "for i, mf in enumerate(mf_arr):\n",
    "    msk = (m200c_sp < np.power(10,mf+0.5)) & (m200c_sp >= np.power(10,mf)) & (centers_inuse[:,0] > 50) & (centers_inuse[:,0] < 950) & (centers_inuse[:,1] > 50) & (centers_inuse[:,1] < 950) & (centers_inuse[:,2] > 50) & (centers_inuse[:,2] < 950)\n",
    "    halo_num_arr[i] = np.sum(msk)\n",
    "    halo_sel_ids = soap_ids[msk][np.random.randint(np.sum(msk), size=halonum)]\n",
    "    \n",
    "    centers = centers_inuse[np.isin(soap_ids, halo_sel_ids)]\n",
    "    r200c_sel = r200c_sp[np.isin(soap_ids, halo_sel_ids)]\n",
    "\n",
    "    fig,ax = plt.subplots(5,5,figsize = (25,25))\n",
    "    plt.suptitle(f\"1e{mf} $\\\\rm M_{{\\odot}}/kpc^2$ cts map\")\n",
    "    #### Zoom in the downsampled map based to the halo position: range: 10r200c\n",
    "    ## this is snapshot, you don't need to mollproj or cartproj!\n",
    "    for k, r200c in enumerate(r200c_sel):\n",
    "        spatial_msk = np.linalg.norm(coords - centers[k], axis =1) < 10*r200c\n",
    "        sel_coords = coords[spatial_msk]\n",
    "        # rebin the particles into bins\n",
    "        bins_interval = 1 #kpc\n",
    "        xbins = np.arange(centers[k][0]-5*r200c, centers[k][0]+5*r200c, bins_interval)\n",
    "        ybins = np.arange(centers[k][1]-5*r200c, centers[k][1]+5*r200c, bins_interval)\n",
    "        ret = stats.binned_statistic_2d(sel_coords[:,0], sel_coords[:,1],mass_map[spatial_msk]/1**2, 'sum', bins=[xbins, ybins])\n",
    "        ax[k//5, k%5].imshow(ret.statistic, norm = LogNorm(), cmap=\"viridis\")\n",
    "    plt.xlabel('kpc')\n",
    "    plt.ylabel('kpc')\n",
    "    \n",
    "    plt.savefig(f\"1e{mf}_mass_div_kpc2_map_5r200c_z01_soap_{today}.png\")\n",
    "    plt.close()\n",
    "\n",
    "    "
   ]
  },
  {
   "cell_type": "code",
   "execution_count": 7,
   "metadata": {},
   "outputs": [
    {
     "name": "stdout",
     "output_type": "stream",
     "text": [
      "159.39042757459816 1000.0*kpc 213.84890030187086 1000.0*kpc 82.20931848368906 1000.0*kpc\n",
      "[159.38805978 213.80427978  82.19235978]\n"
     ]
    }
   ],
   "source": [
    "# load soap catalogue\n",
    "with h5py.File(f\"{soap_dir}/halo_properties_{cat_idx}.hdf5\", 'r') as catalogue_soap:\n",
    "    gasmass_center = catalogue_soap[\"SO/200_crit/GasCentreOfMass\"][()]\n",
    "\n",
    "    \n",
    "# define redshifts\n",
    "reds = 0.1\n",
    "# L1000N1800\n",
    "sim = 'L1000N1800'\n",
    "snapnum = 77\n",
    "cat_idx = f\"00{int(snapnum-reds/0.05)}\"\n",
    "\n",
    "# load vr catalogue\n",
    "from velociraptor import load as load_catalogue\n",
    "from velociraptor.particles import load_groups\n",
    "\n",
    "catalogue_name = f\"{basic_dir}/VR/catalogue_{cat_idx}/vr_catalogue_{cat_idx}\"\n",
    "vr_cat = load_catalogue(f\"{catalogue_name}.properties.0\")\n",
    "vr_grp = load_groups(f\"{catalogue_name}.catalog_groups.0\", catalogue = vr_cat)\n",
    "particles, __ = vr_grp.extract_halo(halo_id=0)\n",
    "\n",
    "print(particles.x_mbp, particles.y_mbp, particles.z_mbp)\n",
    "print(gasmass_center[0])\n",
    "\n",
    "# fig,ax = plt.subplots( 1,3, figsize = (3,9))\n",
    "# ax[0].scatter(gasmass_center[:,0], gasmass_center[:,1])\n",
    "# ax[1].scatter(gasmass_center[:,0], gasmass_center[:,2])\n",
    "# ax[2].scatter(gasmass_center[:,1], gasmass_center[:,2])\n"
   ]
  },
  {
   "cell_type": "code",
   "execution_count": 21,
   "metadata": {},
   "outputs": [
    {
     "name": "stdout",
     "output_type": "stream",
     "text": [
      "6.6796875\n"
     ]
    }
   ],
   "source": [
    "print(r200c*20)"
   ]
  },
  {
   "cell_type": "code",
   "execution_count": 7,
   "metadata": {},
   "outputs": [
    {
     "data": {
      "text/plain": [
       "array([[2., 1.],\n",
       "       [1., 0.]])"
      ]
     },
     "execution_count": 7,
     "metadata": {},
     "output_type": "execute_result"
    }
   ],
   "source": [
    "x = [0.1, 0.1, 0.1, 0.6]\n",
    "y = [2.1, 2.6, 2.1, 2.1]\n",
    "binx = [0.0, 0.5, 1.0]\n",
    "biny = [2.0, 2.5, 3.0]\n",
    "ret = stats.binned_statistic_2d(x, y, None, 'count', bins=[binx, biny])\n",
    "ret.statistic"
   ]
  },
  {
   "cell_type": "code",
   "execution_count": 55,
   "metadata": {},
   "outputs": [
    {
     "name": "stdout",
     "output_type": "stream",
     "text": [
      "[1.7773438 1.6210938 1.5996094 ... 0.        0.        0.       ]\n"
     ]
    }
   ],
   "source": [
    "#  Select 25 random halo in each mass bin and plot them (all projected along z axis)\n",
    "'''\n",
    "Step1: Total halo numbers in every mass bin in my interested redshifts\n",
    "L1000N1800, for z=0.1\n",
    "'''\n",
    "\n",
    "# L1000N1800\n",
    "sim = 'L1000N1800'\n",
    "snapnum = 77\n",
    "cat_idx = f\"00{int(snapnum-reds/0.05)}\"\n",
    "\n",
    "# # L1000N3600\n",
    "# sim = 'L1000N3600'\n",
    "# snapnum = 78\n",
    "\n",
    "import numpy as np \n",
    "import swiftsimio as sw\n",
    "import h5py\n",
    "import matplotlib.pyplot as plt\n",
    "from unyt import msun, kpc\n",
    "from swiftsimio.visualisation.projection import project_gas\n",
    "from swiftsimio import load\n",
    "from matplotlib.colors import LogNorm\n",
    "\n",
    "\n",
    "# define catalogues positions\n",
    "basic_dir = f\"/cosma8/data/dp004/flamingo/Runs/{sim}/HYDRO_FIDUCIAL\"\n",
    "soap_dir = f\"{basic_dir}/SOAP\"\n",
    "snapshot_dir = f\"{basic_dir}/snapshots_downsampled\"\n",
    "\n",
    "# load snapshot data\n",
    "data = load(f\"{snapshot_dir}/flamingo_{cat_idx}.hdf5\")\n",
    "\n",
    "# load soap catalogue\n",
    "reds = 0.1\n",
    "with h5py.File(f\"{soap_dir}/halo_properties_{cat_idx}.hdf5\", 'r') as catalogue_soap:\n",
    "    soap_ids = np.array(catalogue_soap[\"VR/ID\"][()])\n",
    "    m200c_sp = catalogue_soap[\"SO/200_crit/TotalMass\"][()]\n",
    "    r200c_sp = catalogue_soap[\"SO/200_crit/SORadius\"][()]\n",
    "    gasmass_center = catalogue_soap[\"SO/200_crit/GasCentreOfMass\"][()]\n",
    "\n",
    "    # xray_bol_emilum = catalogue_soap[\"SO/200_crit/XRayLuminosityWithoutRecentAGNHeating\"][()]\n",
    "    # xray_bol_phlum = catalogue_soap[\"SO/200_crit/XRayPhotonLuminosityWithoutRecentAGNHeating\"][()]\n",
    "\n",
    "# take halo mass btw 13-13.5 solar mass\n",
    "mf_arr = np.arange(12.5, 15.5, 0.5)\n",
    "halo_num_arr =  np.zeros(mf_arr.shape)\n",
    "\n",
    "# set the random seed, draw 25 radom halos from each mass bin\n",
    "np.random.seed(0)\n",
    "mass_filter = np.array([13.0])\n",
    "halonum = 25\n",
    "\n",
    "\n",
    "for i, mf in enumerate(mf_arr):\n",
    "    msk = (m200c_sp < np.power(10,mf+0.5)) & (m200c_sp >= np.power(10,mf)) & (gasmass_center[:,0] > 50) & (gasmass_center[:,0] < 950) & (gasmass_center[:,1] > 50) & (gasmass_center[:,1] < 950) & (gasmass_center[:,2] > 50) & (gasmass_center[:,2] < 950)\n",
    "    halo_num_arr[i] = np.sum(msk)\n",
    "    halo_sel_ids = soap_ids[msk][np.random.randint(np.sum(msk), size=halonum)]\n",
    "    \n",
    "    centers = gasmass_center[np.isin(soap_ids, halo_sel_ids)]\n",
    "    r200c_sel = r200c_sp[np.isin(soap_ids, halo_sel_ids)]\n",
    "\n",
    "    #### Zoom in the downsampled map based to the halo position: range: 10r200c\n",
    "    for i, r200c in enumerate(r200c_sel):\n",
    "        test_size = r200c * 10\n",
    "\n",
    "        region = [centers[i] + test_size, centers[i] - test_size, centers[i] + test_size, centers[i] - test_size] \n",
    "        \n",
    "        # mass_map.convert_to_units(msun / kpc**2)\n",
    "\n",
    "        plt.imshow(mass_map, norm = LogNorm(), cmap=\"viridis\")\n",
    "        plt.title(mf)\n",
    "        plt.show()\n",
    "        plt.close()\n",
    "\n",
    "    "
   ]
  },
  {
   "cell_type": "code",
   "execution_count": 44,
   "metadata": {},
   "outputs": [
    {
     "data": {
      "text/plain": [
       "25"
      ]
     },
     "execution_count": 44,
     "metadata": {},
     "output_type": "execute_result"
    }
   ],
   "source": [
    "len(np.random.randint(np.sum(msk), size=halonum))"
   ]
  },
  {
   "cell_type": "code",
   "execution_count": 49,
   "metadata": {},
   "outputs": [
    {
     "name": "stdout",
     "output_type": "stream",
     "text": [
      "180039 25 13635133 13635133 25\n"
     ]
    }
   ],
   "source": [
    "print(np.sum(msk), np.sum(np.isin(soap_ids, halo_sel_ids)), len(np.isin(soap_ids, halo_sel_ids)), len(soap_ids), len(halo_sel_ids))"
   ]
  },
  {
   "cell_type": "code",
   "execution_count": 14,
   "metadata": {},
   "outputs": [],
   "source": [
    "def basic_figure_style():\n",
    "    SMALL_SIZE = 5*4                                       \n",
    "    MEDIUM_SIZE = 8*2\n",
    "    BIGGER_SIZE = 10*4\n",
    "\n",
    "    plt.rc('font', size=MEDIUM_SIZE, family='serif')          # controls default text sizes\n",
    "    plt.rc('axes', titlesize=MEDIUM_SIZE)                     # fontsize of the axes title\n",
    "    plt.rc('axes', labelsize=MEDIUM_SIZE)                    # fontsize of the x and y labels\n",
    "    plt.rc('xtick', labelsize=MEDIUM_SIZE, direction='out')    # fontsize of the tick labels\n",
    "    plt.rc('ytick', labelsize=MEDIUM_SIZE, direction='out')    # fontsize of the tick labels\n",
    "    plt.rc('legend', fontsize=MEDIUM_SIZE)                    # legend fontsize\n",
    "    plt.rc('figure', titlesize=BIGGER_SIZE)                  # fontsize of the figure title\n",
    "    plt.rc('lines', linewidth=3) \n",
    "    plt.rc('axes', grid=True) #\n",
    "    plt.rc('grid', alpha=0.7) #\n",
    "    plt.rc('xtick', top=True)\n",
    "    plt.rc('ytick', right=True)\n",
    "    plt.rc('axes.formatter', use_mathtext=True, min_exponent=4, useoffset=False)\n",
    "    plt.rc('figure', figsize='6, 6')                         # size of the figure, used to be '4, 3' in inches\n",
    "    ######################################################\n",
    "basic_figure_style()\n",
    "cb = ['#0173b2', '#de8f05', '#029e73', '#d55e00', '#cc78bc', '#ca9161', '#fbafe4', '#949494', '#ece133', '#56b4e9']\n"
   ]
  },
  {
   "cell_type": "code",
   "execution_count": null,
   "metadata": {},
   "outputs": [],
   "source": []
  }
 ],
 "metadata": {
  "kernelspec": {
   "display_name": "Python 3.10.1 64-bit",
   "language": "python",
   "name": "python3"
  },
  "language_info": {
   "codemirror_mode": {
    "name": "ipython",
    "version": 3
   },
   "file_extension": ".py",
   "mimetype": "text/x-python",
   "name": "python",
   "nbconvert_exporter": "python",
   "pygments_lexer": "ipython3",
   "version": "3.10.1"
  },
  "orig_nbformat": 4,
  "vscode": {
   "interpreter": {
    "hash": "d7ecf834245044ebdd9ad8d01f28ff0a9bfdf52cfb8dfd28a258f8e19ea6edec"
   }
  }
 },
 "nbformat": 4,
 "nbformat_minor": 2
}
