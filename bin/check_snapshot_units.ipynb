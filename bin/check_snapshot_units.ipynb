{
 "cells": [
  {
   "cell_type": "code",
   "execution_count": 6,
   "metadata": {},
   "outputs": [
    {
     "name": "stdout",
     "output_type": "stream",
     "text": [
      "loading snapshot data\n"
     ]
    }
   ],
   "source": [
    "from swiftsimio import load\n",
    "\n",
    "\n",
    "print('loading snapshot data')\n",
    "reds = 0.0\n",
    "snapshot_datapath = '/cosma8/data/dp004/flamingo/Runs/L1000N1800/HYDRO_FIDUCIAL/snapshots'\n",
    "snapshot_filename = f'{snapshot_datapath}/flamingo_00{int(77-reds/0.05)}/flamingo_00{int(77-reds/0.05)}.hdf5'\n",
    "data = load(snapshot_filename)\n"
   ]
  },
  {
   "cell_type": "code",
   "execution_count": 7,
   "metadata": {},
   "outputs": [
    {
     "data": {
      "text/plain": [
       "['compton_yparameters',\n",
       " 'coordinates',\n",
       " 'densities',\n",
       " 'electron_number_densities',\n",
       " 'fofgroup_ids',\n",
       " 'last_agnfeedback_scale_factors',\n",
       " 'masses',\n",
       " 'maximal_temperature_scale_factors',\n",
       " 'maximal_temperatures',\n",
       " 'metal_mass_fractions',\n",
       " 'particle_ids',\n",
       " 'pressures',\n",
       " 'smoothed_element_mass_fractions',\n",
       " 'smoothed_metal_mass_fractions',\n",
       " 'smoothing_lengths',\n",
       " 'star_formation_rates',\n",
       " 'temperatures',\n",
       " 'velocities',\n",
       " 'velocity_divergences',\n",
       " 'xray_luminosities',\n",
       " 'xray_photon_luminosities']"
      ]
     },
     "execution_count": 7,
     "metadata": {},
     "output_type": "execute_result"
    }
   ],
   "source": [
    "data.metadata.gas_properties.field_names"
   ]
  },
  {
   "cell_type": "code",
   "execution_count": 9,
   "metadata": {},
   "outputs": [
    {
     "data": {
      "text/plain": [
       "10000000000.0*Msun"
      ]
     },
     "execution_count": 9,
     "metadata": {},
     "output_type": "execute_result"
    }
   ],
   "source": [
    "data.gas.masses.units"
   ]
  },
  {
   "cell_type": "code",
   "execution_count": null,
   "metadata": {},
   "outputs": [],
   "source": []
  }
 ],
 "metadata": {
  "kernelspec": {
   "display_name": "Python 3.10.1 64-bit",
   "language": "python",
   "name": "python3"
  },
  "language_info": {
   "codemirror_mode": {
    "name": "ipython",
    "version": 3
   },
   "file_extension": ".py",
   "mimetype": "text/x-python",
   "name": "python",
   "nbconvert_exporter": "python",
   "pygments_lexer": "ipython3",
   "version": "3.10.1"
  },
  "orig_nbformat": 4,
  "vscode": {
   "interpreter": {
    "hash": "d7ecf834245044ebdd9ad8d01f28ff0a9bfdf52cfb8dfd28a258f8e19ea6edec"
   }
  }
 },
 "nbformat": 4,
 "nbformat_minor": 2
}
