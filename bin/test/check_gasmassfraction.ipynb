{
 "cells": [
  {
   "cell_type": "code",
   "execution_count": 30,
   "metadata": {},
   "outputs": [
    {
     "name": "stdout",
     "output_type": "stream",
     "text": [
      "halo mass 10^13.5-14, 0.07452727854251862, 0.0756891518831253\n",
      "halo mass 10^13.5-14, 0.053547751158475876, 0.053547751158475876\n",
      "421.21732797249007\n",
      "354.7642986496\n",
      "4776.003633152\n"
     ]
    }
   ],
   "source": [
    "import numpy as np\n",
    "import h5py\n",
    "\n",
    "sim = 'L1000N1800'\n",
    "snapnum = '77'\n",
    "\n",
    "cat =  h5py.File(f\"/cosma8/data/dp004/flamingo/Runs/{sim}/HYDRO_FIDUCIAL/SOAP/halo_properties_00{snapnum}.hdf5\", 'r')\n",
    "\n",
    "m200c_tot = cat[\"SO/200_crit/TotalMass\"][()]\n",
    "m200c_gas = cat[\"SO/200_crit/GasMass\"][()]\n",
    "\n",
    "m500c_tot = cat[\"SO/500_crit/TotalMass\"][()]\n",
    "m500c_gas = cat[\"SO/500_crit/GasMass\"][()]\n",
    "\n",
    "msk = (m200c_tot <= np.power(10, 14)) & (m200c_tot >= np.power(10, 13.5))\n",
    "print(f'halo mass 10^13.5-14, {np.nanmedian(m200c_gas[msk]/m200c_tot[msk])}, {np.nanmean(m200c_gas[msk]/m200c_tot[msk])}')\n",
    "print(f'halo mass 10^13.5-14, {np.nanmedian(m500c_gas[msk]/m500c_tot[msk])}, {np.nanmean(m500c_gas[msk]/m500c_tot[msk])}')\n",
    "\n",
    "print(np.nanmean(m200c_gas[msk]/10**10))\n",
    "print(np.nanmedian(m200c_gas[msk]/10**10))\n",
    "print(np.nanmedian(m200c_tot[msk]/10**10))\n",
    "# msk = (m200c_tot <= np.power(10, 13.0)) & (m200c_tot >= np.power(10, 12.5))\n",
    "# print(f'halo mass 10^12.5-13, {np.nanmedian(m200c_gas[msk]/m200c_tot[msk])}, {np.nanmean(m200c_gas[msk]/m200c_tot[msk])}')\n",
    "# print(f'halo mass 10^12.5-13, {np.nanmedian(m500c_gas[msk]/m500c_tot[msk])}, {np.nanmean(m500c_gas[msk]/m500c_tot[msk])}')\n"
   ]
  },
  {
   "cell_type": "code",
   "execution_count": 19,
   "metadata": {},
   "outputs": [
    {
     "name": "stderr",
     "output_type": "stream",
     "text": [
      "/tmp/ipykernel_122364/2741143648.py:1: RuntimeWarning: invalid value encountered in true_divide\n",
      "  np.nanmedian(m200c_gas/m200c_tot)\n"
     ]
    },
    {
     "data": {
      "text/plain": [
       "0.046767455"
      ]
     },
     "execution_count": 19,
     "metadata": {},
     "output_type": "execute_result"
    }
   ],
   "source": [
    "np.nanmedian(m200c_gas/m200c_tot)"
   ]
  },
  {
   "cell_type": "code",
   "execution_count": null,
   "metadata": {},
   "outputs": [],
   "source": []
  }
 ],
 "metadata": {
  "kernelspec": {
   "display_name": "Python 3.10.1 64-bit",
   "language": "python",
   "name": "python3"
  },
  "language_info": {
   "codemirror_mode": {
    "name": "ipython",
    "version": 3
   },
   "file_extension": ".py",
   "mimetype": "text/x-python",
   "name": "python",
   "nbconvert_exporter": "python",
   "pygments_lexer": "ipython3",
   "version": "3.10.1"
  },
  "orig_nbformat": 4,
  "vscode": {
   "interpreter": {
    "hash": "adf9e0a057993c57b62011492446df3eb36b972b5d4317c384777c845a51cdb6"
   }
  }
 },
 "nbformat": 4,
 "nbformat_minor": 2
}
